{
 "cells": [
  {
   "cell_type": "code",
   "execution_count": 1,
   "metadata": {},
   "outputs": [],
   "source": [
    "## problem statement - implement the ecommerce notify me option when a product is out of stock"
   ]
  },
  {
   "cell_type": "code",
   "execution_count": 12,
   "metadata": {},
   "outputs": [],
   "source": [
    "from abc import ABC, abstractmethod"
   ]
  },
  {
   "cell_type": "code",
   "execution_count": 13,
   "metadata": {},
   "outputs": [],
   "source": [
    "class notificationAlertObserver(ABC):\n",
    "    @abstractmethod\n",
    "    def update(self):\n",
    "        pass"
   ]
  },
  {
   "cell_type": "code",
   "execution_count": 35,
   "metadata": {},
   "outputs": [],
   "source": [
    "## observavle interface\n",
    "\n",
    "class stockObservable(ABC):\n",
    "\n",
    "    @abstractmethod\n",
    "    def add(self, observer : notificationAlertObserver):\n",
    "        pass\n",
    "\n",
    "    @abstractmethod\n",
    "    def remove(self, observer: notificationAlertObserver):\n",
    "        pass\n",
    "\n",
    "    @abstractmethod\n",
    "    def notify(self):\n",
    "        pass\n",
    "\n",
    "    @abstractmethod\n",
    "    def setstock(self, newStock):\n",
    "        pass\n",
    "\n",
    "    @abstractmethod\n",
    "    def getstock(self):\n",
    "        pass"
   ]
  },
  {
   "cell_type": "code",
   "execution_count": 84,
   "metadata": {},
   "outputs": [],
   "source": [
    "class emailAlertObserver(notificationAlertObserver):\n",
    "    \n",
    "    def __init__(self, email, observable: stockObservable):\n",
    "        self.email = email\n",
    "        self.observable = observable\n",
    "    \n",
    "    def sendmail(self, email):\n",
    "        print(f\"mail send to: {email}\")\n",
    "    \n",
    "    def update(self):\n",
    "        self.sendmail(self.email)\n",
    "    \n"
   ]
  },
  {
   "cell_type": "code",
   "execution_count": 111,
   "metadata": {},
   "outputs": [],
   "source": [
    "class mobileAlertObserver(notificationAlertObserver):\n",
    "    \n",
    "    def __init__(self, username, observable: stockObservable):\n",
    "        self.username = username\n",
    "        self.observable = observable\n",
    "    \n",
    "    def sendsms(self, username, model):\n",
    "        print(f\"the {model} is back in stock!!! HURRY UP\")\n",
    "        print(f\"sms send to: {username}\")\n",
    "    \n",
    "    def update(self, model):\n",
    "        self.sendsms(self.username, model)"
   ]
  },
  {
   "cell_type": "code",
   "execution_count": 112,
   "metadata": {},
   "outputs": [],
   "source": [
    "class iphoneObservable(stockObservable):\n",
    "\n",
    "\n",
    "    def __init__(self, model):\n",
    "        self.observers = []\n",
    "        self.stock = 0\n",
    "        self.model = model\n",
    "\n",
    "    def add(self, observer : notificationAlertObserver):\n",
    "        self.observers.append(observer)\n",
    "    \n",
    "    def remove(self, observer : notificationAlertObserver):\n",
    "        self.observers.remove(observer)\n",
    "\n",
    "    def notify(self):\n",
    "        for observer in  self.observers:\n",
    "            observer.update(self.model)\n",
    "    \n",
    "    def setstock(self, newstock):\n",
    "        if(self.stock == 0):\n",
    "            self.notify()\n",
    "        self.stock = newstock\n",
    "    \n",
    "    def getstock(self):\n",
    "        return self.stock"
   ]
  },
  {
   "cell_type": "code",
   "execution_count": 102,
   "metadata": {},
   "outputs": [],
   "source": [
    "iphone15 = iphoneObservable(\"iphone15\")"
   ]
  },
  {
   "cell_type": "code",
   "execution_count": 113,
   "metadata": {},
   "outputs": [],
   "source": [
    "iphone16 = iphoneObservable(\"iphone16\")"
   ]
  },
  {
   "cell_type": "code",
   "execution_count": 105,
   "metadata": {},
   "outputs": [],
   "source": [
    "email = emailAlertObserver(\"abc@gmail.com\", iphone15)"
   ]
  },
  {
   "cell_type": "code",
   "execution_count": 106,
   "metadata": {},
   "outputs": [],
   "source": [
    "email2 = emailAlertObserver(\"efg@yahoo.com\", iphone15)"
   ]
  },
  {
   "cell_type": "code",
   "execution_count": 114,
   "metadata": {},
   "outputs": [],
   "source": [
    "mobile = mobileAlertObserver(\"ritesh_027\", iphone16)"
   ]
  },
  {
   "cell_type": "code",
   "execution_count": 115,
   "metadata": {},
   "outputs": [],
   "source": [
    "# iphone15.add(email)\n",
    "# iphone15.add(email2)\n",
    "iphone16.add(mobile)"
   ]
  },
  {
   "cell_type": "code",
   "execution_count": 109,
   "metadata": {},
   "outputs": [
    {
     "name": "stdout",
     "output_type": "stream",
     "text": [
      "mail send to: abc@gmail.com\n",
      "mail send to: efg@yahoo.com\n",
      "None\n"
     ]
    }
   ],
   "source": [
    "print(iphone15.setstock(4))"
   ]
  },
  {
   "cell_type": "code",
   "execution_count": 121,
   "metadata": {},
   "outputs": [],
   "source": [
    "iphone16.setstock(4)"
   ]
  },
  {
   "cell_type": "code",
   "execution_count": null,
   "metadata": {},
   "outputs": [],
   "source": []
  }
 ],
 "metadata": {
  "kernelspec": {
   "display_name": "Python 3",
   "language": "python",
   "name": "python3"
  },
  "language_info": {
   "codemirror_mode": {
    "name": "ipython",
    "version": 3
   },
   "file_extension": ".py",
   "mimetype": "text/x-python",
   "name": "python",
   "nbconvert_exporter": "python",
   "pygments_lexer": "ipython3",
   "version": "3.12.4"
  }
 },
 "nbformat": 4,
 "nbformat_minor": 2
}
