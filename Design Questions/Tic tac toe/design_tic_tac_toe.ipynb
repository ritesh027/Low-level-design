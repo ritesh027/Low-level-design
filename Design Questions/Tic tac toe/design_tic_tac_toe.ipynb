{
 "cells": [
  {
   "cell_type": "markdown",
   "metadata": {},
   "source": [
    "from abc import ABC, abstractmethod"
   ]
  },
  {
   "cell_type": "code",
   "execution_count": 1,
   "metadata": {},
   "outputs": [],
   "source": [
    "from abc import ABC, abstractmethod"
   ]
  },
  {
   "cell_type": "code",
   "execution_count": null,
   "metadata": {},
   "outputs": [],
   "source": [
    "from enum import Enum\n",
    "\n",
    "class PieceType(Enum):\n",
    "    X = \"X\"\n",
    "    O = \"O\""
   ]
  },
  {
   "cell_type": "code",
   "execution_count": null,
   "metadata": {},
   "outputs": [],
   "source": [
    "class PlayingPiece(ABC):\n",
    "\n",
    "    def __init__(self, pieceType: PieceType):\n",
    "        self.pieceType = pieceType\n",
    "        \n",
    "\n",
    "class PlayingPieceX(PlayingPiece):\n",
    "\n",
    "    def __init__(self):\n",
    "        super().__init__(PieceType.X)\n",
    "\n",
    "\n",
    "class PlayingPieceO(PlayingPiece):\n",
    "\n",
    "    def __init__(self):\n",
    "        super().__init__(PieceType.O)\n"
   ]
  },
  {
   "cell_type": "code",
   "execution_count": null,
   "metadata": {},
   "outputs": [],
   "source": [
    "## Board\n",
    "\n",
    "class Board(ABC):\n",
    "\n",
    "    def __init(self, size):\n",
    "        self.size = size\n",
    "        self.board = [[PlayingPiece for _ in range(self.size)] for _ in range(self.size)]"
   ]
  }
 ],
 "metadata": {
  "kernelspec": {
   "display_name": "Python 3",
   "language": "python",
   "name": "python3"
  },
  "language_info": {
   "codemirror_mode": {
    "name": "ipython",
    "version": 3
   },
   "file_extension": ".py",
   "mimetype": "text/x-python",
   "name": "python",
   "nbconvert_exporter": "python",
   "pygments_lexer": "ipython3",
   "version": "3.12.4"
  }
 },
 "nbformat": 4,
 "nbformat_minor": 2
}
