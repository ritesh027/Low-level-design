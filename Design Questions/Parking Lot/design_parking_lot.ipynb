{
 "cells": [
  {
   "cell_type": "markdown",
   "metadata": {},
   "source": [
    "## Objective\n",
    "### vehicle should come to a entry -> get a ticket -> get parked in the parking spot -> exit"
   ]
  },
  {
   "cell_type": "markdown",
   "metadata": {},
   "source": [
    "\n",
    "\n",
    "### requirements\n",
    "1) How many entry and exit point are there (but it should be scalable)\n",
    "    * initially 1 entry and 1 exit (but it should be scalable)\n",
    "2) what are the types of vehicles are there \n",
    "    * two wheeler\n",
    "    * four wheeler (small -> 5 seater)\n",
    "    * four wheeler (large -> 7 seater)\n",
    "3) what are the types of parking spots available? ( this should also be scalable)\n",
    "    * two wheeler spots\n",
    "    * four wheeler spots\n",
    "4) how the parking charges calculated\n",
    "    * hourly basis\n",
    "    * minutes basis\n",
    "5) what are the different payements options \n",
    "    * UPI\n",
    "    * cash\n",
    "6) payment should be made at entry by a predecided time or it should be at exit \n",
    "    * at exit only\n"
   ]
  },
  {
   "cell_type": "markdown",
   "metadata": {},
   "source": [
    "### objects\n",
    "1) vehicle\n",
    "    * vehicle no\n",
    "    * vehicle type\n",
    "2) tickets\n",
    "    * entry time\n",
    "    * parking spot\n",
    "    * name of the person\n",
    "3) parking spot ( individual)\n",
    "    * variable\n",
    "        * parking spot id\n",
    "        * type\n",
    "        * is empty or not\n",
    "        * if not empty the which vehicle is there\n",
    "        * price of parking spot\n",
    "    * function\n",
    "        * park vehicle \n",
    "        * remove vehicle\n",
    "4) Parking spot manager\n",
    "    * variables \n",
    "        * list of all the parking spots\n",
    "    * func\n",
    "        * find parking space\n",
    "        * add parking space\n",
    "        * remove parking space\n",
    "        * park vehicle\n",
    "        * remove vehicle\n",
    "5) entrance\n",
    "    * find parking spot\n",
    "    * update parking spot\n",
    "    * generate ticket\n",
    "\n",
    "6) exit\n",
    "    * calulate parking time and its associated cost\n",
    "    * redirect to payment\n",
    "    * exit finally and update parking spot\n"
   ]
  },
  {
   "cell_type": "markdown",
   "metadata": {},
   "source": []
  },
  {
   "cell_type": "code",
   "execution_count": 1,
   "metadata": {},
   "outputs": [],
   "source": [
    "from abc import ABC, abstractmethod"
   ]
  },
  {
   "cell_type": "code",
   "execution_count": null,
   "metadata": {},
   "outputs": [],
   "source": [
    "class ParkingSpot(ABC):\n",
    "    \n",
    "    def __init__(self, id, price):\n",
    "        self.id = id\n",
    "        self.isEmpty = True\n",
    "        self.vehicleNo = None\n",
    "        self.__price = price\n",
    "        \n",
    "    def parkVehicle(self, vehicleNo):\n",
    "        self.vehicleNo = vehicleNo\n",
    "        self.isEmpty = False\n",
    "    \n",
    "    def removeVehicle(self):\n",
    "        self.vehicleNo = None\n",
    "        self.isEmpty = True\n",
    "        "
   ]
  },
  {
   "cell_type": "code",
   "execution_count": 5,
   "metadata": {},
   "outputs": [
    {
     "data": {
      "text/plain": [
       "5"
      ]
     },
     "execution_count": 5,
     "metadata": {},
     "output_type": "execute_result"
    }
   ],
   "source": [
    "class A(ABC):\n",
    "\n",
    "    def __init__(self, vara):\n",
    "        self.vara = vara\n",
    "\n",
    "class B(A):\n",
    "    \n",
    "    def __init__(self, vara):\n",
    "        super().__init__(vara)\n",
    "\n",
    "b = B(5)\n",
    "b.vara"
   ]
  },
  {
   "cell_type": "markdown",
   "metadata": {},
   "source": []
  }
 ],
 "metadata": {
  "kernelspec": {
   "display_name": "Python 3",
   "language": "python",
   "name": "python3"
  },
  "language_info": {
   "codemirror_mode": {
    "name": "ipython",
    "version": 3
   },
   "file_extension": ".py",
   "mimetype": "text/x-python",
   "name": "python",
   "nbconvert_exporter": "python",
   "pygments_lexer": "ipython3",
   "version": "3.12.4"
  }
 },
 "nbformat": 4,
 "nbformat_minor": 2
}
