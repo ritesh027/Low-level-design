{
 "cells": [
  {
   "cell_type": "code",
   "execution_count": 2,
   "metadata": {},
   "outputs": [],
   "source": [
    "from abc import ABC, abstractmethod"
   ]
  },
  {
   "cell_type": "code",
   "execution_count": 3,
   "metadata": {},
   "outputs": [],
   "source": [
    "class BasePizza(ABC):\n",
    "\n",
    "    @abstractmethod\n",
    "    def cost(self):\n",
    "        pass"
   ]
  },
  {
   "cell_type": "code",
   "execution_count": 24,
   "metadata": {},
   "outputs": [],
   "source": [
    "class Margherita(BasePizza):\n",
    "    def cost(self):\n",
    "        return 100\n",
    "    \n",
    "    def desc(self):\n",
    "        print(f\"Margherita Pizza\")\n",
    "        return \"\"\n",
    "    \n",
    "class VegDelight(BasePizza):\n",
    "    def cost(self):\n",
    "        return 150\n",
    "    \n",
    "class Farmhouse(BasePizza):\n",
    "    def cost(self):\n",
    "        return 200\n"
   ]
  },
  {
   "cell_type": "code",
   "execution_count": 25,
   "metadata": {},
   "outputs": [
    {
     "data": {
      "text/plain": [
       "100"
      ]
     },
     "execution_count": 25,
     "metadata": {},
     "output_type": "execute_result"
    }
   ],
   "source": [
    "margherita = Margherita()\n",
    "margherita.cost()"
   ]
  },
  {
   "cell_type": "code",
   "execution_count": 8,
   "metadata": {},
   "outputs": [],
   "source": [
    "class ToppingDecorator(BasePizza):\n",
    "\n",
    "    @abstractmethod\n",
    "    def cost(self):\n",
    "        pass"
   ]
  },
  {
   "cell_type": "code",
   "execution_count": 26,
   "metadata": {},
   "outputs": [],
   "source": [
    "class ExtraCheese(ToppingDecorator):\n",
    "\n",
    "    def __init__(self, basePizza : BasePizza):\n",
    "        self.basePizza = basePizza\n",
    "\n",
    "    def cost(self):\n",
    "        return self.basePizza.cost() + 20\n",
    "    \n",
    "    def desc(self):\n",
    "        print(f\"ExtraCheese {self.basePizza.desc()}\")\n",
    "        return \"\"\n",
    "\n",
    "class Mushroom(ToppingDecorator):\n",
    "    \n",
    "    def __init__(self, basePizza : BasePizza):\n",
    "        self.basePizza = basePizza\n",
    "    \n",
    "    def cost(self):\n",
    "        return self.basePizza.cost() + 30\n",
    "    \n",
    "    def desc(self):\n",
    "        print(f\"Mushroom {self.basePizza.desc()}\")\n",
    "        return \"\"\n",
    "\n",
    "class Chicken(ToppingDecorator):\n",
    "    \n",
    "    def __init__(self, basePizza : BasePizza):\n",
    "        self.basePizza = basePizza\n",
    "    \n",
    "    def cost(self):\n",
    "        return self.basePizza.cost() + 50\n",
    "    \n",
    "    def desc(self):\n",
    "        print(f\"Chicken {self.basePizza.desc()}\")\n",
    "        return \"\"\n"
   ]
  },
  {
   "cell_type": "code",
   "execution_count": 27,
   "metadata": {},
   "outputs": [
    {
     "name": "stdout",
     "output_type": "stream",
     "text": [
      "Margherita Pizza\n",
      "ExtraCheese \n",
      "Mushroom \n",
      "Chicken \n"
     ]
    },
    {
     "data": {
      "text/plain": [
       "''"
      ]
     },
     "execution_count": 27,
     "metadata": {},
     "output_type": "execute_result"
    }
   ],
   "source": [
    "pizza = Chicken(Mushroom(ExtraCheese(Margherita())))\n",
    "pizza.cost()\n",
    "pizza.desc()"
   ]
  }
 ],
 "metadata": {
  "kernelspec": {
   "display_name": "Python 3",
   "language": "python",
   "name": "python3"
  },
  "language_info": {
   "codemirror_mode": {
    "name": "ipython",
    "version": 3
   },
   "file_extension": ".py",
   "mimetype": "text/x-python",
   "name": "python",
   "nbconvert_exporter": "python",
   "pygments_lexer": "ipython3",
   "version": "3.12.4"
  }
 },
 "nbformat": 4,
 "nbformat_minor": 2
}
