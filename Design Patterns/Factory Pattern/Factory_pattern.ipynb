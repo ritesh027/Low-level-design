{
 "cells": [
  {
   "cell_type": "code",
   "execution_count": null,
   "metadata": {},
   "outputs": [],
   "source": [
    "## factory pattern is when we want to create an objecct on the basis of a condition"
   ]
  },
  {
   "cell_type": "code",
   "execution_count": 1,
   "metadata": {},
   "outputs": [],
   "source": [
    "from abc import ABC, abstractmethod"
   ]
  },
  {
   "cell_type": "code",
   "execution_count": 2,
   "metadata": {},
   "outputs": [],
   "source": [
    "class Shape(ABC):\n",
    "\n",
    "    @abstractmethod\n",
    "    def draw(self):\n",
    "        pass"
   ]
  },
  {
   "cell_type": "code",
   "execution_count": 7,
   "metadata": {},
   "outputs": [],
   "source": [
    "class Circle(Shape):\n",
    "\n",
    "    def draw(self):\n",
    "        print(\"A Circle\")\n",
    "\n",
    "class Square(Shape):\n",
    "\n",
    "    def draw(self):\n",
    "        print(\"A Square\")\n",
    "\n",
    "class Rectangle(Shape):\n",
    "\n",
    "    def draw(self):\n",
    "        print(\"A Rectangle\")"
   ]
  },
  {
   "cell_type": "code",
   "execution_count": 8,
   "metadata": {},
   "outputs": [],
   "source": [
    "class ShapeFactory(ABC):\n",
    "    \n",
    "    def getshape(self, input):\n",
    "        if input == \"circle\":\n",
    "            return Circle()\n",
    "        elif input == \"square\":\n",
    "            return Square()\n",
    "        elif input == \"rectangle\":\n",
    "            return Rectangle()\n",
    "        else:\n",
    "            print(\"Incorrect Object requested\")"
   ]
  },
  {
   "cell_type": "code",
   "execution_count": 9,
   "metadata": {},
   "outputs": [],
   "source": [
    "shape = ShapeFactory()"
   ]
  },
  {
   "cell_type": "code",
   "execution_count": 13,
   "metadata": {},
   "outputs": [],
   "source": [
    "shapeobj = shape.getshape(\"square\")"
   ]
  },
  {
   "cell_type": "code",
   "execution_count": 14,
   "metadata": {},
   "outputs": [
    {
     "name": "stdout",
     "output_type": "stream",
     "text": [
      "A Square\n"
     ]
    }
   ],
   "source": [
    "shapeobj.draw()"
   ]
  },
  {
   "cell_type": "code",
   "execution_count": 17,
   "metadata": {},
   "outputs": [
    {
     "name": "stdout",
     "output_type": "stream",
     "text": [
      "A Rectangle\n"
     ]
    }
   ],
   "source": [
    "shapeobj1 = shape.getshape(\"rectangle\")\n",
    "shapeobj1.draw()"
   ]
  },
  {
   "cell_type": "code",
   "execution_count": null,
   "metadata": {},
   "outputs": [],
   "source": []
  }
 ],
 "metadata": {
  "kernelspec": {
   "display_name": "Python 3",
   "language": "python",
   "name": "python3"
  },
  "language_info": {
   "codemirror_mode": {
    "name": "ipython",
    "version": 3
   },
   "file_extension": ".py",
   "mimetype": "text/x-python",
   "name": "python",
   "nbconvert_exporter": "python",
   "pygments_lexer": "ipython3",
   "version": "3.12.4"
  }
 },
 "nbformat": 4,
 "nbformat_minor": 2
}
