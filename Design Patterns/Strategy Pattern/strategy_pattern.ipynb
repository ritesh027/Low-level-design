{
 "cells": [
  {
   "cell_type": "code",
   "execution_count": 1,
   "metadata": {},
   "outputs": [],
   "source": [
    "from abc import ABC, abstractmethod"
   ]
  },
  {
   "cell_type": "code",
   "execution_count": 2,
   "metadata": {},
   "outputs": [],
   "source": [
    "# strategy interface\n",
    "## this will direct the client to exact payment strategies \n",
    "class paymentStrategy(ABC):\n",
    "    @abstractmethod\n",
    "    def pay(self, amount):\n",
    "        pass"
   ]
  },
  {
   "cell_type": "code",
   "execution_count": 3,
   "metadata": {},
   "outputs": [],
   "source": [
    "## implementing concrete strategies\n",
    "\n",
    "class creditCardStrategy(paymentStrategy):\n",
    "\n",
    "    def __init__(self, cardNumber, card_expiration):\n",
    "        self.cardNumber = cardNumber\n",
    "        self.card_expiration =  card_expiration\n",
    "\n",
    "    def pay(self, amount):\n",
    "        print(f\"Paying {amount} using Credit Card ending in {self.cardNumber[-4:]}.\")\n",
    "\n",
    "\n",
    "class UPIStrategy(paymentStrategy):\n",
    "    \n",
    "    def __init__(self, upiID):\n",
    "        self.upiID = upiID\n",
    "\n",
    "    def pay(self, amount):\n",
    "        print(f\"Paying {amount} using Credit Card ending in {self.upiID}.\")\n",
    "\n",
    "\n",
    "# Concrete Strategy 2: Pay with PayPal\n",
    "class PayPalPayment(paymentStrategy):\n",
    "    def __init__(self, email):\n",
    "        self.email = email\n",
    "    \n",
    "    def pay(self, amount):\n",
    "        print(f\"Paying {amount} using PayPal account {self.email}.\")\n",
    "\n",
    "# Concrete Strategy 3: Pay with Cryptocurrency\n",
    "class CryptoPayment(paymentStrategy):\n",
    "    def __init__(self, wallet_address):\n",
    "        self.wallet_address = wallet_address\n",
    "    \n",
    "    def pay(self, amount):\n",
    "        print(f\"Paying {amount} using cryptocurrency wallet {self.wallet_address}.\")\n"
   ]
  },
  {
   "cell_type": "code",
   "execution_count": 13,
   "metadata": {},
   "outputs": [],
   "source": [
    "# we will now create context classes to delegate the payment process\n",
    "\n",
    "class paymentProcessor:\n",
    "\n",
    "    def __init__(self, payment_strategy : paymentStrategy):\n",
    "        self._payment_strategy = payment_strategy\n",
    "\n",
    "    def set_payment_strategy(self, payment_strategy: paymentStrategy):\n",
    "        self._payment_strategy = payment_strategy\n",
    "    \n",
    "    def process_payments(self, amount):\n",
    "        self._payment_strategy.pay(amount)\n",
    "\n",
    " ## now suppose we have three retail store reliance smart , walmart, dmart, two of them uses creditcard and one uses upi\n",
    " #  and not anything else , how do we implement this\n",
    "\n",
    "class walmartPayment(paymentProcessor):\n",
    "\n",
    "    def __init__(self, cardNo, expire):\n",
    "        self.cardNo = cardNo\n",
    "        self.expire = expire\n",
    "        self._payment_strategy = creditCardStrategy(self.cardNo, self.expire)\n"
   ]
  },
  {
   "cell_type": "code",
   "execution_count": 14,
   "metadata": {},
   "outputs": [],
   "source": [
    "\n",
    "pay1 = walmartPayment(\"1234567\", \"12/23\")"
   ]
  },
  {
   "cell_type": "code",
   "execution_count": 15,
   "metadata": {},
   "outputs": [
    {
     "name": "stdout",
     "output_type": "stream",
     "text": [
      "hello World\n"
     ]
    }
   ],
   "source": [
    "pay1.process_payments(100)"
   ]
  },
  {
   "cell_type": "code",
   "execution_count": 29,
   "metadata": {},
   "outputs": [],
   "source": [
    "payment_processor = paymentProcessor(creditCardStrategy(\"12345678901\", \"12/24\"))"
   ]
  },
  {
   "cell_type": "code",
   "execution_count": 26,
   "metadata": {},
   "outputs": [
    {
     "name": "stdout",
     "output_type": "stream",
     "text": [
      "Paying 100 using Credit Card ending in 8901.\n"
     ]
    }
   ],
   "source": [
    "payment_processor.process_payments(100)"
   ]
  },
  {
   "cell_type": "code",
   "execution_count": 31,
   "metadata": {},
   "outputs": [],
   "source": [
    "payment_processor.set_payment_strategy(PayPalPayment(\"user@example.com\"))\n"
   ]
  },
  {
   "cell_type": "code",
   "execution_count": 32,
   "metadata": {},
   "outputs": [
    {
     "name": "stdout",
     "output_type": "stream",
     "text": [
      "Paying 200 using PayPal account user@example.com.\n"
     ]
    }
   ],
   "source": [
    "payment_processor.process_payments(200)"
   ]
  },
  {
   "cell_type": "code",
   "execution_count": 34,
   "metadata": {},
   "outputs": [
    {
     "name": "stdout",
     "output_type": "stream",
     "text": [
      "Paying 300 using cryptocurrency wallet 0xABC1234DEF.\n"
     ]
    }
   ],
   "source": [
    "payment_processor.set_payment_strategy(CryptoPayment(\"0xABC1234DEF\"))\n",
    "payment_processor.process_payments(300)  "
   ]
  },
  {
   "cell_type": "code",
   "execution_count": null,
   "metadata": {},
   "outputs": [],
   "source": []
  }
 ],
 "metadata": {
  "kernelspec": {
   "display_name": "Python 3",
   "language": "python",
   "name": "python3"
  },
  "language_info": {
   "codemirror_mode": {
    "name": "ipython",
    "version": 3
   },
   "file_extension": ".py",
   "mimetype": "text/x-python",
   "name": "python",
   "nbconvert_exporter": "python",
   "pygments_lexer": "ipython3",
   "version": "3.12.4"
  }
 },
 "nbformat": 4,
 "nbformat_minor": 2
}
